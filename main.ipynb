{
 "cells": [
  {
   "cell_type": "code",
   "execution_count": 1,
   "metadata": {
    "collapsed": true
   },
   "outputs": [],
   "source": [
    "#!/usr/local/bin/python\n",
    "\n",
    "import os, sys\n",
    "import json\n",
    "import numpy as np\n",
    "import matplotlib.pyplot as plt\n",
    "import chainer\n",
    "from chainer import cuda\n",
    "from matplotlib import animation\n",
    "from optparse import OptionParser\n",
    "\n",
    "from elecpy.util.cmap_bipolar import bipolar\n",
    "import elecpy.elecpy as elp\n",
    "\n",
    "from matplotlib import animation, rc\n",
    "from IPython.display import HTML\n",
    "\n",
    "import time\n",
    "\n",
    "%matplotlib inline"
   ]
  },
  {
   "cell_type": "code",
   "execution_count": 6,
   "metadata": {
    "collapsed": false
   },
   "outputs": [
    {
     "name": "stdout",
     "output_type": "stream",
     "text": [
      "{\n",
      "    \"geometory\": {\n",
      "        \"width\": 200, \n",
      "        \"ds\": 0.015, \n",
      "        \"height\": 200\n",
      "    }, \n",
      "    \"stimulation\": {\n",
      "        \"extracellular\": [\n",
      "            {\n",
      "                \"name\": \"point\", \n",
      "                \"interval\": 100.0, \n",
      "                \"start\": 0.0, \n",
      "                \"shape\": [\n",
      "                    200, \n",
      "                    200\n",
      "                ], \n",
      "                \"amplitude\": 50.0, \n",
      "                \"duration\": 10.0, \n",
      "                \"size\": [\n",
      "                    91, \n",
      "                    61, \n",
      "                    5\n",
      "                ]\n",
      "            }\n",
      "        ], \n",
      "        \"membrane\": []\n",
      "    }, \n",
      "    \"cell_type\": \"mahajan\", \n",
      "    \"log\": {\n",
      "        \"path\": \"./result\", \n",
      "        \"cnt\": 1000\n",
      "    }, \n",
      "    \"time\": {\n",
      "        \"end\": 20, \n",
      "        \"udt\": 0.001\n",
      "    }\n",
      "}\n"
     ]
    }
   ],
   "source": [
    "# load sample parameter\n",
    "with open ('elecpy/temp/sim_params.json','r') as f:\n",
    "    sim_params = json.load(f)\n",
    "\n",
    "# modify parameters\n",
    "sim_params['time']['end'] = 20\n",
    "sim_params[\"stimulation\"][\"extracellular\"][0][\"start\"] = 0.\n",
    "sim_params[\"stimulation\"][\"extracellular\"][0][\"duration\"] = 10.\n",
    "sim_params['log']['path'] = './result'\n",
    "\n",
    "print json.dumps(sim_params, indent=4)"
   ]
  },
  {
   "cell_type": "code",
   "execution_count": 15,
   "metadata": {
    "collapsed": false
   },
   "outputs": [
    {
     "name": "stdout",
     "output_type": "stream",
     "text": [
      " {\n",
      "    \"cell_type\": \"mahajan\", \n",
      "    \"log\": {\n",
      "        \"path\": \"./result\", \n",
      "        \"cnt\": 1000\n",
      "    }, \n",
      "    \"stimulation\": {\n",
      "        \"extracellular\": [\n",
      "            {\n",
      "                \"name\": \"point\", \n",
      "                \"interval\": 100.0, \n",
      "                \"start\": 0.0, \n",
      "                \"shape\": [\n",
      "                    200, \n",
      "                    200\n",
      "                ], \n",
      "                \"amplitude\": 50.0, \n",
      "                \"duration\": 20.0, \n",
      "                \"size\": [\n",
      "                    91, \n",
      "                    61, \n",
      "                    5\n",
      "                ]\n",
      "            }\n",
      "        ], \n",
      "        \"membrane\": []\n",
      "    }, \n",
      "    \"time\": {\n",
      "        \"end\": 20, \n",
      "        \"udt\": 0.001\n",
      "    }, \n",
      "    \"geometory\": {\n",
      "        \"width\": 200, \n",
      "        \"ds\": 0.015, \n",
      "        \"height\": 200\n",
      "    }, \n",
      "    \"restart\": {\n",
      "        \"count\": 0, \n",
      "        \"source\": \"/mnt/recordings/SimulationResults/2D/20171128-1/\"\n",
      "    }\n",
      "}\n"
     ]
    }
   ],
   "source": [
    "# load sample parameter\n",
    "with open ('elecpy/temp/sim_params.json','r') as f:\n",
    "    sim_params = json.load(f)\n",
    "\n",
    "# modify parameters\n",
    "sim_params['time']['end'] = 20\n",
    "sim_params['log']['path'] = './result'\n",
    "sim_params['restart'] = {}\n",
    "sim_params['restart']['count'] = 0\n",
    "sim_params['restart']['source'] = \"/mnt/recordings/SimulationResults/2D/20171128-1/\"\n",
    "\n",
    "print json.dumps(sim_params, indent=4)"
   ]
  },
  {
   "cell_type": "code",
   "execution_count": 16,
   "metadata": {
    "collapsed": false
   },
   "outputs": [],
   "source": [
    "g = elp.sim_generator(sim_params)\n",
    "\n",
    "outdir = './result'\n",
    "if not os.path.exists(outdir) : os.makedirs(outdir)"
   ]
  },
  {
   "cell_type": "code",
   "execution_count": 17,
   "metadata": {
    "collapsed": false
   },
   "outputs": [
    {
     "name": "stdout",
     "output_type": "stream",
     "text": [
      "elecpy simulation start!\n",
      "Stimulation settings ...done\n",
      "Allocating data... ...done\n",
      "Initializing data..."
     ]
    },
    {
     "ename": "IOError",
     "evalue": "[Errno 2] No such file or directory: '/mnt/recordings/SimulationResults/2D/20171128-1//phie_0000.npy'",
     "output_type": "error",
     "traceback": [
      "\u001b[0;31m\u001b[0m",
      "\u001b[0;31mIOError\u001b[0mTraceback (most recent call last)",
      "\u001b[0;32m<ipython-input-17-5d61d046ec92>\u001b[0m in \u001b[0;36m<module>\u001b[0;34m()\u001b[0m\n\u001b[1;32m      1\u001b[0m \u001b[0mout\u001b[0m \u001b[0;34m=\u001b[0m \u001b[0;34m[\u001b[0m\u001b[0;34m]\u001b[0m\u001b[0;34m\u001b[0m\u001b[0m\n\u001b[1;32m      2\u001b[0m \u001b[0;32mwhile\u001b[0m \u001b[0mTrue\u001b[0m\u001b[0;34m:\u001b[0m\u001b[0;34m\u001b[0m\u001b[0m\n\u001b[0;32m----> 3\u001b[0;31m     \u001b[0mimg\u001b[0m \u001b[0;34m=\u001b[0m \u001b[0mg\u001b[0m\u001b[0;34m.\u001b[0m\u001b[0mnext\u001b[0m\u001b[0;34m(\u001b[0m\u001b[0;34m)\u001b[0m\u001b[0;34m\u001b[0m\u001b[0m\n\u001b[0m\u001b[1;32m      4\u001b[0m     \u001b[0;32mif\u001b[0m \u001b[0mimg\u001b[0m \u001b[0;32mis\u001b[0m \u001b[0mFalse\u001b[0m\u001b[0;34m:\u001b[0m \u001b[0;32mbreak\u001b[0m\u001b[0;34m\u001b[0m\u001b[0m\n\u001b[1;32m      5\u001b[0m     \u001b[0mout\u001b[0m\u001b[0;34m.\u001b[0m\u001b[0mappend\u001b[0m\u001b[0;34m(\u001b[0m\u001b[0mnp\u001b[0m\u001b[0;34m.\u001b[0m\u001b[0mcopy\u001b[0m\u001b[0;34m(\u001b[0m\u001b[0mimg\u001b[0m\u001b[0;34m)\u001b[0m\u001b[0;34m)\u001b[0m\u001b[0;34m\u001b[0m\u001b[0m\n",
      "\u001b[0;32m/notebooks/nb_elecpy_apv/elecpy/elecpy.py\u001b[0m in \u001b[0;36msim_generator\u001b[0;34m(params)\u001b[0m\n\u001b[1;32m    129\u001b[0m         \u001b[0msrcpath\u001b[0m \u001b[0;34m=\u001b[0m \u001b[0msim_params\u001b[0m\u001b[0;34m[\u001b[0m\u001b[0;34m'restart'\u001b[0m\u001b[0;34m]\u001b[0m\u001b[0;34m[\u001b[0m\u001b[0;34m'source'\u001b[0m\u001b[0;34m]\u001b[0m\u001b[0;34m\u001b[0m\u001b[0m\n\u001b[1;32m    130\u001b[0m         \u001b[0mpfx\u001b[0m \u001b[0;34m=\u001b[0m \u001b[0;34m'_{0:0>4}'\u001b[0m\u001b[0;34m.\u001b[0m\u001b[0mformat\u001b[0m\u001b[0;34m(\u001b[0m\u001b[0mcnt_restart\u001b[0m\u001b[0;34m)\u001b[0m\u001b[0;34m\u001b[0m\u001b[0m\n\u001b[0;32m--> 131\u001b[0;31m         \u001b[0mphie\u001b[0m \u001b[0;34m=\u001b[0m \u001b[0mnp\u001b[0m\u001b[0;34m.\u001b[0m\u001b[0mload\u001b[0m\u001b[0;34m(\u001b[0m\u001b[0;34m'{0}/phie{1}.npy'\u001b[0m\u001b[0;34m.\u001b[0m\u001b[0mformat\u001b[0m\u001b[0;34m(\u001b[0m\u001b[0msrcpath\u001b[0m\u001b[0;34m,\u001b[0m\u001b[0mpfx\u001b[0m\u001b[0;34m)\u001b[0m\u001b[0;34m)\u001b[0m\u001b[0;34m.\u001b[0m\u001b[0mflatten\u001b[0m\u001b[0;34m(\u001b[0m\u001b[0;34m)\u001b[0m\u001b[0;34m\u001b[0m\u001b[0m\n\u001b[0m\u001b[1;32m    132\u001b[0m         \u001b[0mvmem\u001b[0m \u001b[0;34m=\u001b[0m \u001b[0mnp\u001b[0m\u001b[0;34m.\u001b[0m\u001b[0mload\u001b[0m\u001b[0;34m(\u001b[0m\u001b[0;34m'{0}/vmem{1}.npy'\u001b[0m\u001b[0;34m.\u001b[0m\u001b[0mformat\u001b[0m\u001b[0;34m(\u001b[0m\u001b[0msrcpath\u001b[0m\u001b[0;34m,\u001b[0m\u001b[0mpfx\u001b[0m\u001b[0;34m)\u001b[0m\u001b[0;34m)\u001b[0m\u001b[0;34m.\u001b[0m\u001b[0mflatten\u001b[0m\u001b[0;34m(\u001b[0m\u001b[0;34m)\u001b[0m\u001b[0;34m\u001b[0m\u001b[0m\n\u001b[1;32m    133\u001b[0m         \u001b[0mcells\u001b[0m\u001b[0;34m.\u001b[0m\u001b[0mload\u001b[0m\u001b[0;34m(\u001b[0m\u001b[0;34m'{0}/cell{1}'\u001b[0m\u001b[0;34m.\u001b[0m\u001b[0mformat\u001b[0m\u001b[0;34m(\u001b[0m\u001b[0msrcpath\u001b[0m\u001b[0;34m,\u001b[0m\u001b[0mpfx\u001b[0m\u001b[0;34m)\u001b[0m\u001b[0;34m)\u001b[0m\u001b[0;34m\u001b[0m\u001b[0m\n",
      "\u001b[0;32m/root/.pyenv/versions/anaconda2-4.3.1/lib/python2.7/site-packages/numpy/lib/npyio.pyc\u001b[0m in \u001b[0;36mload\u001b[0;34m(file, mmap_mode, allow_pickle, fix_imports, encoding)\u001b[0m\n\u001b[1;32m    360\u001b[0m     \u001b[0mown_fid\u001b[0m \u001b[0;34m=\u001b[0m \u001b[0mFalse\u001b[0m\u001b[0;34m\u001b[0m\u001b[0m\n\u001b[1;32m    361\u001b[0m     \u001b[0;32mif\u001b[0m \u001b[0misinstance\u001b[0m\u001b[0;34m(\u001b[0m\u001b[0mfile\u001b[0m\u001b[0;34m,\u001b[0m \u001b[0mbasestring\u001b[0m\u001b[0;34m)\u001b[0m\u001b[0;34m:\u001b[0m\u001b[0;34m\u001b[0m\u001b[0m\n\u001b[0;32m--> 362\u001b[0;31m         \u001b[0mfid\u001b[0m \u001b[0;34m=\u001b[0m \u001b[0mopen\u001b[0m\u001b[0;34m(\u001b[0m\u001b[0mfile\u001b[0m\u001b[0;34m,\u001b[0m \u001b[0;34m\"rb\"\u001b[0m\u001b[0;34m)\u001b[0m\u001b[0;34m\u001b[0m\u001b[0m\n\u001b[0m\u001b[1;32m    363\u001b[0m         \u001b[0mown_fid\u001b[0m \u001b[0;34m=\u001b[0m \u001b[0mTrue\u001b[0m\u001b[0;34m\u001b[0m\u001b[0m\n\u001b[1;32m    364\u001b[0m     \u001b[0;32melse\u001b[0m\u001b[0;34m:\u001b[0m\u001b[0;34m\u001b[0m\u001b[0m\n",
      "\u001b[0;31mIOError\u001b[0m: [Errno 2] No such file or directory: '/mnt/recordings/SimulationResults/2D/20171128-1//phie_0000.npy'"
     ]
    }
   ],
   "source": [
    "out = []\n",
    "while True:\n",
    "    img = g.next()\n",
    "    if img is False: break\n",
    "    out.append(np.copy(img))"
   ]
  },
  {
   "cell_type": "code",
   "execution_count": 19,
   "metadata": {
    "collapsed": false
   },
   "outputs": [
    {
     "name": "stdout",
     "output_type": "stream",
     "text": [
      "/mnt/recordings/SimulationResults\r\n"
     ]
    }
   ],
   "source": [
    "!ls /mnt/recordings/SimulationResults"
   ]
  },
  {
   "cell_type": "code",
   "execution_count": 22,
   "metadata": {
    "collapsed": false
   },
   "outputs": [
    {
     "name": "stdout",
     "output_type": "stream",
     "text": [
      "total 12\r\n",
      "drwxr-xr-x 3 root root 4096 Jan 24 13:24 .\r\n",
      "drwxr-xr-x 4 root root 4096 Jan 24 13:14 ..\r\n",
      "drwxr-xr-x 3 root root 4096 Jan 24 13:24 AnalysisResult\r\n",
      "lrwxrwxrwx 1 root root   10 Jan 24 13:15 SimulationResults -> /mnt/drive\r\n"
     ]
    }
   ],
   "source": [
    "!ls -la /mnt/recordings"
   ]
  },
  {
   "cell_type": "code",
   "execution_count": null,
   "metadata": {
    "collapsed": true
   },
   "outputs": [],
   "source": []
  }
 ],
 "metadata": {
  "kernelspec": {
   "display_name": "Python 2",
   "language": "python",
   "name": "python2"
  },
  "language_info": {
   "codemirror_mode": {
    "name": "ipython",
    "version": 2
   },
   "file_extension": ".py",
   "mimetype": "text/x-python",
   "name": "python",
   "nbconvert_exporter": "python",
   "pygments_lexer": "ipython2",
   "version": "2.7.13"
  }
 },
 "nbformat": 4,
 "nbformat_minor": 2
}
